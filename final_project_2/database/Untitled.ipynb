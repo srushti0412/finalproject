{
 "cells": [
  {
   "cell_type": "code",
   "execution_count": 1,
   "id": "03a8b3a1-87a0-491f-828e-4c82f11dc2d7",
   "metadata": {
    "tags": []
   },
   "outputs": [],
   "source": [
    "import sqlite3\n",
    "import pandas as pd\n",
    "\n",
    "df = read_csv(\"winequality_red.csv\")\n",
    "\n",
    "conn = sqlite3.connect(\"winequality_red.db\")\n",
    "cursor = conn.cursor()\n",
    "df.to_sql(\"winequality_red_1\", con, index = False)"
   ]
  },
  {
   "cell_type": "code",
   "execution_count": null,
   "id": "47a54a3e-9009-4150-bbe5-cf9c2486b38b",
   "metadata": {},
   "outputs": [],
   "source": []
  },
  {
   "cell_type": "code",
   "execution_count": null,
   "id": "cc8a66af-7706-4a1f-bac0-0ed38740e73c",
   "metadata": {},
   "outputs": [],
   "source": []
  },
  {
   "cell_type": "code",
   "execution_count": null,
   "id": "d03d2c7b-ca3c-4886-b989-e7b4b1dab2c3",
   "metadata": {},
   "outputs": [],
   "source": []
  },
  {
   "cell_type": "code",
   "execution_count": null,
   "id": "27887fb0-fa90-464c-b94e-46b0f2548642",
   "metadata": {},
   "outputs": [],
   "source": []
  },
  {
   "cell_type": "code",
   "execution_count": null,
   "id": "a09fa7ec-e66e-4545-80ab-c8e3cfa37e1a",
   "metadata": {},
   "outputs": [],
   "source": []
  }
 ],
 "metadata": {
  "kernelspec": {
   "display_name": "Python 3 (ipykernel)",
   "language": "python",
   "name": "python3"
  },
  "language_info": {
   "codemirror_mode": {
    "name": "ipython",
    "version": 3
   },
   "file_extension": ".py",
   "mimetype": "text/x-python",
   "name": "python",
   "nbconvert_exporter": "python",
   "pygments_lexer": "ipython3",
   "version": "3.11.4"
  }
 },
 "nbformat": 4,
 "nbformat_minor": 5
}
